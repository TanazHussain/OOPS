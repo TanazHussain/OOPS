{
 "cells": [
  {
   "cell_type": "markdown",
   "id": "7c2b3175-1c3e-4ed2-aa54-13e19c797385",
   "metadata": {},
   "source": [
    "### Python OOPS questions"
   ]
  },
  {
   "cell_type": "markdown",
   "id": "fa047624-5cff-4e38-8ac5-ce9fbf1fd5c2",
   "metadata": {},
   "source": [
    "### 1.What is Object-Oriented Programming (OOP)?\n",
    "Object-Oriented Programming (OOP) is a programming paradigm based on the concept of objects. Objects are instances of classes, which are user-defined data structures that contain both data and functions. OOP helps in structuring code in a way that makes it reusable and easier to maintain by modeling real-world entities. The four main pillars of OOP are abstraction, encapsulation, inheritance, and polymorphism."
   ]
  },
  {
   "cell_type": "markdown",
   "id": "5a0e8b2c",
   "metadata": {},
   "source": [
    "### 2.What is a class in OOP?\n",
    "A class is a blueprint for creating objects in object-oriented programming. It defines a set of attributes and methods that the created objects will possess. A class acts as a template from which multiple instances (objects) can be created."
   ]
  },
  {
   "cell_type": "markdown",
   "id": "e954ba6e",
   "metadata": {},
   "source": [
    "### 3.What is an object in OOP?\n",
    "An object is an instance of a class. It represents a specific implementation of the class with actual values for the attributes. Objects interact with one another using methods and can model real-world behavior and data."
   ]
  },
  {
   "cell_type": "markdown",
   "id": "7cced078",
   "metadata": {},
   "source": [
    "### 4.What is the difference between abstraction and encapsulation?\n",
    "Abstraction is the concept of hiding the complex implementation details and showing only the essential features of an object. Encapsulation, on the other hand, involves bundling the data and the methods that operate on that data within one unit (class) and restricting access to some components."
   ]
  },
  {
   "cell_type": "markdown",
   "id": "64875e8f",
   "metadata": {},
   "source": [
    "### 5.What are dunder methods in Python?\n",
    "Dunder (double underscore) methods are special methods in Python that begin and end with double underscores, such as `__init__`, `__str__`, etc. They enable the customization of built-in behavior, like object initialization, string representation, arithmetic operations, etc."
   ]
  },
  {
   "cell_type": "markdown",
   "id": "29d17c8b",
   "metadata": {},
   "source": [
    "### 6.Explain the concept of inheritance in OOP\n",
    "Inheritance is a fundamental concept in OOP that allows one class (child/subclass) to inherit properties and behaviors (methods and attributes) from another class (parent/superclass). This promotes code reusability and hierarchical classification."
   ]
  },
  {
   "cell_type": "markdown",
   "id": "cb07a33b",
   "metadata": {},
   "source": [
    "### 7.What is polymorphism in OOP\n",
    "Polymorphism allows objects of different classes to be treated as objects of a common superclass. It enables a single interface to be used for different data types, making the code more flexible and extensible. There are two types: compile-time (method overloading) and runtime (method overriding)."
   ]
  },
  {
   "cell_type": "markdown",
   "id": "0bc19f6a",
   "metadata": {},
   "source": [
    "### 8.How is encapsulation achieved in Python\n",
    "Encapsulation in Python is achieved by using access modifiers. Attributes can be made private by prefixing them with double underscores (e.g., `__data`). Access to such data is controlled through getter and setter methods."
   ]
  },
  {
   "cell_type": "markdown",
   "id": "ae01b9b4",
   "metadata": {},
   "source": [
    "### 9.What is a constructor in Python\n",
    "A constructor is a special method called `__init__` that is automatically invoked when a new object of a class is created. It is used to initialize the object's attributes."
   ]
  },
  {
   "cell_type": "markdown",
   "id": "39dff53b",
   "metadata": {},
   "source": [
    "### 10.What are class and static methods in Python\n",
    "Class methods are defined with the `@classmethod` decorator and take `cls` as the first parameter, referring to the class. Static methods use the `@staticmethod` decorator and do not take `self` or `cls` as the first argument. They behave like regular functions but reside in the class namespace."
   ]
  },
  {
   "cell_type": "markdown",
   "id": "671e6327",
   "metadata": {},
   "source": [
    "### 11.What is method overloading in Python\n",
    "Python does not support traditional method overloading as in other languages. However, similar functionality can be achieved using default arguments or variable-length arguments."
   ]
  },
  {
   "cell_type": "markdown",
   "id": "a9e328c5",
   "metadata": {},
   "source": [
    "### 12.What is method overriding in OOP\n",
    "Method overriding occurs when a subclass provides a specific implementation of a method that is already defined in its superclass. The overridden method in the subclass should have the same name, parameters, and return type."
   ]
  },
  {
   "cell_type": "markdown",
   "id": "140dd3eb",
   "metadata": {},
   "source": [
    "### 13.What is a property decorator in Python\n",
    "The `@property` decorator in Python is used to define getter methods that can be accessed like attributes. It allows controlled access to class attributes without directly exposing them."
   ]
  },
  {
   "cell_type": "markdown",
   "id": "79772e5d",
   "metadata": {},
   "source": [
    "### 14.Why is polymorphism important in OOP\n",
    "Polymorphism enhances flexibility and maintainability in code. It allows different classes to be used interchangeably through a common interface, thereby supporting code generalization and reducing redundancy."
   ]
  },
  {
   "cell_type": "markdown",
   "id": "98663e3f",
   "metadata": {},
   "source": [
    "### 15.What is an abstract class in Python\n",
    "An abstract class in Python is a class that cannot be instantiated directly. It is defined using the `abc` module and may include abstract methods that must be implemented by its subclasses."
   ]
  },
  {
   "cell_type": "markdown",
   "id": "e264c877",
   "metadata": {},
   "source": [
    "### 16.What are the advantages of OOP\n",
    "Advantages of OOP include modularity, code reusability, scalability, easier debugging, enhanced data security through encapsulation, and a clear structure for code management."
   ]
  },
  {
   "cell_type": "markdown",
   "id": "cca32ed3",
   "metadata": {},
   "source": [
    "### 17.What is the difference between a class variable and an instance variable\n",
    "A class variable is shared by all instances of the class, while an instance variable is unique to each object. Class variables are defined inside the class but outside any method."
   ]
  },
  {
   "cell_type": "markdown",
   "id": "9e811144",
   "metadata": {},
   "source": [
    "### 18.What is multiple inheritance in Python\n",
    "Multiple inheritance is a feature in Python where a class can inherit from more than one parent class. This allows the child class to access attributes and methods from all parent classes."
   ]
  },
  {
   "cell_type": "markdown",
   "id": "8acbb604",
   "metadata": {},
   "source": [
    "### 19.Explain the purpose of '__str__' and '__repr__' methods in Python\n",
    "`__str__` returns a user-friendly string representation of the object, while `__repr__` is used to return an official string representation of the object, which can be used to recreate it."
   ]
  },
  {
   "cell_type": "markdown",
   "id": "89f3f442",
   "metadata": {},
   "source": [
    "### 20.What is the significance of the 'super()' function in Python\n",
    "The `super()` function is used to call a method from the parent class. It is commonly used in method overriding to access the functionality of the base class while extending it."
   ]
  },
  {
   "cell_type": "markdown",
   "id": "0469f7eb",
   "metadata": {},
   "source": [
    "### 21.What is the significance of the __del__ method in Python\n",
    "The `__del__` method is a destructor method in Python. It is called when an object is about to be destroyed, and it is used to perform cleanup operations."
   ]
  },
  {
   "cell_type": "markdown",
   "id": "5e218117",
   "metadata": {},
   "source": [
    "### 22.What is the difference between @staticmethod and @classmethod in Python\n",
    "`@staticmethod` does not access class or instance-specific data and behaves like a regular function inside a class. `@classmethod` takes `cls` as a parameter and can modify the class state that applies across all instances."
   ]
  },
  {
   "cell_type": "markdown",
   "id": "7e345e3d",
   "metadata": {},
   "source": [
    "### 23.How does polymorphism work in Python with inheritance\n",
    "In Python, polymorphism allows derived classes to override methods from base classes. When objects of these classes are treated as instances of the base class, the appropriate overridden method is called based on the object's type."
   ]
  },
  {
   "cell_type": "markdown",
   "id": "042a8c67",
   "metadata": {},
   "source": [
    "### 24.What is method chaining in Python OOP\n",
    "Method chaining is a technique where multiple methods are called on the same object in a single line. This is achieved by having each method return `self`."
   ]
  },
  {
   "cell_type": "markdown",
   "id": "ce54c9ff",
   "metadata": {},
   "source": [
    "### 25.What is the purpose of the __call__ method in Python?\n",
    "`__call__` allows an instance of a class to be called as a function. This method can be used to create callable objects, which behave like regular functions."
   ]
  },
  {
   "cell_type": "markdown",
   "id": "d8ad4f89-c4ce-4017-ad69-11f3fefb3a73",
   "metadata": {},
   "source": [
    "### Practical questions"
   ]
  },
  {
   "cell_type": "code",
   "execution_count": 31,
   "id": "7d26ad24-a97f-42fc-8f33-38fb59b90693",
   "metadata": {},
   "outputs": [],
   "source": [
    "# 1. Create a parent class Animal with a method speak() that prints a generic message. Create a child class Dog \n",
    "#that overrides the speak() method to print \"Bark!\".\n",
    "\n",
    "class Animal:\n",
    "    def speak(self):\n",
    "        print(\"The animal makes a sound.\")\n",
    "class Dog(Animal):\n",
    "    def speak(self):\n",
    "        print(\"Bark!\")"
   ]
  },
  {
   "cell_type": "code",
   "execution_count": 32,
   "id": "104bff39-d0a1-4275-8c0b-4218d4999b04",
   "metadata": {},
   "outputs": [
    {
     "name": "stdout",
     "output_type": "stream",
     "text": [
      "The animal makes a sound.\n"
     ]
    }
   ],
   "source": [
    "a = Animal()\n",
    "a.speak() # Output: The animal makes a sound."
   ]
  },
  {
   "cell_type": "code",
   "execution_count": 33,
   "id": "2ef3da6c-8c46-46ca-8a50-e2ccc6d0c1bf",
   "metadata": {},
   "outputs": [
    {
     "name": "stdout",
     "output_type": "stream",
     "text": [
      "Bark!\n"
     ]
    }
   ],
   "source": [
    "d = Dog()\n",
    "d.speak()  # Output: Bark!"
   ]
  },
  {
   "cell_type": "code",
   "execution_count": 85,
   "id": "77b5a8aa-07e7-4645-97f7-05fde6940a85",
   "metadata": {},
   "outputs": [],
   "source": [
    "#2. Write a program to create an abstract class Shape with a method area(). Derive classes Circle and Rectangle \n",
    "#from it and implement the area() method in both.\n",
    "\n",
    "\n",
    "from abc import ABC, abstractmethod\n",
    "\n",
    "class Shape(ABC):\n",
    "    @abstractmethod\n",
    "    def area(self):\n",
    "        pass\n",
    "\n",
    "class Rectangle(Shape):\n",
    "    def __init__(self,length,breadth):\n",
    "        self.length = length\n",
    "        self.breadth = breadth    \n",
    "    def area(self):\n",
    "        return self.length*self.breadth\n",
    "\n",
    "class Circle(Shape):\n",
    "    def __init__(self,radius):\n",
    "        self.radius = radius\n",
    "    def area(self):\n",
    "        return 3.14*self.radius**2"
   ]
  },
  {
   "cell_type": "code",
   "execution_count": 82,
   "id": "3cfbd851-fd9c-4acf-b537-05f936fe9e98",
   "metadata": {},
   "outputs": [
    {
     "name": "stdout",
     "output_type": "stream",
     "text": [
      "Area of rectangle is: 15\n"
     ]
    }
   ],
   "source": [
    "r = Rectangle(5,3)\n",
    "print(\"Area of rectangle is:\",r.area())"
   ]
  },
  {
   "cell_type": "code",
   "execution_count": 83,
   "id": "25825a59-eeb6-4dd4-856a-06ecf75376da",
   "metadata": {},
   "outputs": [
    {
     "name": "stdout",
     "output_type": "stream",
     "text": [
      "Area of circle is 50.24\n"
     ]
    }
   ],
   "source": [
    "c = Circle(4)\n",
    "print(\"Area of circle is\",c.area())"
   ]
  },
  {
   "cell_type": "code",
   "execution_count": 115,
   "id": "9c85ee83-997d-4201-b670-76563a8484c9",
   "metadata": {},
   "outputs": [],
   "source": [
    "#3. Implement a multi-level inheritance scenario where a class Vehicle has an attribute type. Derive a class Car \n",
    "#and further derive a class ElectricCar that adds a battery attribute.\n",
    "\n",
    "#Base class\n",
    "class Vehicle:\n",
    "    def __init__(self,vehicle_type):\n",
    "        self.vehicle_type = vehicle_type\n",
    "    def show_type(self):\n",
    "        print(f\"Vehicle type:{self.vehicle_type}\")\n",
    "\n",
    "#derived class  \n",
    "class Car(Vehicle):\n",
    "    def __init__(self,vehicle_type,car_type):\n",
    "        super().__init__(vehicle_type)\n",
    "        self.car_type = car_type\n",
    "    def show_car_type(self):\n",
    "        print(f\"Car type:{self.car_type}\")\n",
    "        \n",
    "#further derived class         \n",
    "class ElectricCar(Car):\n",
    "    def __init__(self,vehicle_type,car_type,battery_capacity):\n",
    "        super().__init__(vehicle_type,car_type)\n",
    "        self.battery_capacity = battery_capacity\n",
    "    def show_battery_capacity(self):\n",
    "        print(f\"battery capacity:{self.battery_capacity}Kwh\")\n",
    "   "
   ]
  },
  {
   "cell_type": "code",
   "execution_count": 118,
   "id": "ef3e5618-d1d5-4708-9daf-edce625fc238",
   "metadata": {},
   "outputs": [
    {
     "name": "stdout",
     "output_type": "stream",
     "text": [
      "Vehicle type:EV\n",
      "Car type:sedan\n",
      "battery capacity:75Kwh\n"
     ]
    }
   ],
   "source": [
    "ev = ElectricCar(\"EV\",\"sedan\",75)\n",
    "ev.show_type()\n",
    "ev.show_car_type()\n",
    "ev.show_battery_capacity()"
   ]
  },
  {
   "cell_type": "code",
   "execution_count": 120,
   "id": "21f6c9bd-71f2-4a70-83dc-231eec460114",
   "metadata": {},
   "outputs": [],
   "source": [
    "#4. Demonstrate polymorphism by creating a base class Bird with a method fly(). Create two derived classes \n",
    "#Sparrow and Penguin that override the fly() method. \n",
    "\n",
    "class Bird:\n",
    "    def fly(self):\n",
    "        print(\"The bird is flying\")\n",
    "class Sparrow(Bird):\n",
    "    def fly(self,name = \"Sparrow\"):\n",
    "        print(name,\"is a bird that flies\")\n",
    "class Penguin(Bird):\n",
    "    def fly(self,name = \"Penguin\"):\n",
    "        print(name,\"is a bird that cannot fly\")        \n",
    "        "
   ]
  },
  {
   "cell_type": "code",
   "execution_count": 122,
   "id": "28d0a666-6110-4fdc-96e3-8fbeeb908d49",
   "metadata": {},
   "outputs": [
    {
     "name": "stdout",
     "output_type": "stream",
     "text": [
      "Penguin is a bird that cannot flies\n"
     ]
    }
   ],
   "source": [
    "b = Penguin()\n",
    "b.fly()"
   ]
  },
  {
   "cell_type": "code",
   "execution_count": 123,
   "id": "b066e03c-7918-4f1f-b1f6-2d85a91871ca",
   "metadata": {},
   "outputs": [
    {
     "name": "stdout",
     "output_type": "stream",
     "text": [
      "Sparrow is a bird that flies\n"
     ]
    }
   ],
   "source": [
    "s = Sparrow()\n",
    "s.fly()"
   ]
  },
  {
   "cell_type": "code",
   "execution_count": 37,
   "id": "1c4bd863-5cf3-45f5-927b-b77c6c914614",
   "metadata": {},
   "outputs": [],
   "source": [
    "#5. Write a program to demonstrate encapsulation by creating a class BankAccount with private attributes \n",
    "#balance and methods to deposit, withdraw, and check balance.\n",
    "\n",
    "class BankAccount:\n",
    "    def __init__(self,balance):\n",
    "        self.__balance = balance\n",
    "        \n",
    "    def deposit(self,amount):\n",
    "        self.__balance = self.__balance + amount\n",
    "        print(\"Money credited\")\n",
    "        \n",
    "    def withdraw(self,amount):\n",
    "        if self.__balance >= amount:\n",
    "            self.__balance = self.__balance - amount\n",
    "            print(\"Money debited\")\n",
    "        else:\n",
    "            print(\"Insufficient fund\")\n",
    "            \n",
    "    def check_balance(self):\n",
    "        print(\"the balance is:\",self.__balance)"
   ]
  },
  {
   "cell_type": "code",
   "execution_count": 38,
   "id": "7242d0f9-2386-4450-9a39-b2c76994710a",
   "metadata": {},
   "outputs": [],
   "source": [
    "acc1 = BankAccount(10000)"
   ]
  },
  {
   "cell_type": "code",
   "execution_count": 39,
   "id": "d7d7a174-b538-4fc0-b1a7-cf5512cac4f2",
   "metadata": {},
   "outputs": [
    {
     "name": "stdout",
     "output_type": "stream",
     "text": [
      "the balance is: 10000\n"
     ]
    }
   ],
   "source": [
    "acc1.check_balance()"
   ]
  },
  {
   "cell_type": "code",
   "execution_count": 40,
   "id": "a2fe486b-6ea3-492d-9fc2-be10d5c98a2c",
   "metadata": {},
   "outputs": [
    {
     "name": "stdout",
     "output_type": "stream",
     "text": [
      "Money credited\n"
     ]
    }
   ],
   "source": [
    "acc1.deposit(1000)"
   ]
  },
  {
   "cell_type": "code",
   "execution_count": 41,
   "id": "bb446d1c-bf4d-408c-9633-108bce9866bb",
   "metadata": {},
   "outputs": [
    {
     "name": "stdout",
     "output_type": "stream",
     "text": [
      "the balance is: 11000\n"
     ]
    }
   ],
   "source": [
    "acc1.check_balance()"
   ]
  },
  {
   "cell_type": "code",
   "execution_count": 42,
   "id": "d633ea18-bd2b-43ec-b89b-c5851023246a",
   "metadata": {},
   "outputs": [
    {
     "name": "stdout",
     "output_type": "stream",
     "text": [
      "Money debited\n"
     ]
    }
   ],
   "source": [
    "acc1.withdraw(1000)"
   ]
  },
  {
   "cell_type": "code",
   "execution_count": 43,
   "id": "099cfded-3efc-475e-8170-ce998a5fc817",
   "metadata": {},
   "outputs": [
    {
     "name": "stdout",
     "output_type": "stream",
     "text": [
      "the balance is: 10000\n"
     ]
    }
   ],
   "source": [
    "acc1.check_balance()"
   ]
  },
  {
   "cell_type": "code",
   "execution_count": 70,
   "id": "688b8fdd-acb6-4a96-891c-848a1da14a46",
   "metadata": {},
   "outputs": [
    {
     "name": "stdout",
     "output_type": "stream",
     "text": [
      "Instrument plays\n",
      "Guitar has cords\n",
      "Piano has keys\n"
     ]
    }
   ],
   "source": [
    "# 6. Demonstrate runtime polymorphism using a method play() in a base class Instrument. Derive classes Guitar \n",
    "#and Piano that implement their own version of play().\n",
    "\n",
    "\n",
    "class Instrument:\n",
    "    def play(self):\n",
    "        print(\"Instrument plays\")\n",
    "\n",
    "class Guitar(Instrument):\n",
    "    def play(self):\n",
    "        print(\"Guitar has cords\")\n",
    "\n",
    "class Piano(Instrument):\n",
    "    def play(self):\n",
    "        print(\"Piano has keys\")\n",
    "\n",
    "# Creating objects of each class\n",
    "obj1 = Instrument()\n",
    "obj2 = Guitar()\n",
    "obj3 = Piano()\n",
    "\n",
    "# List of base class references pointing to derived class objects\n",
    "class_obj = [obj1, obj2, obj3]\n",
    "\n",
    "# Function to demonstrate runtime polymorphism\n",
    "def parcer(class_obj):\n",
    "    for i in class_obj:\n",
    "        i.play()\n",
    "\n",
    "# Run the function\n",
    "parcer(class_obj)"
   ]
  },
  {
   "cell_type": "code",
   "execution_count": 5,
   "id": "874efd72-e71f-45f5-bfa6-6c75a876e1b7",
   "metadata": {},
   "outputs": [
    {
     "name": "stdout",
     "output_type": "stream",
     "text": [
      "8\n",
      "2\n"
     ]
    }
   ],
   "source": [
    "#7. Create a class MathOperations with a class method add_numbers() to add two numbers and a static \n",
    "#method subtract_numbers() to subtract two numbers.\n",
    "\n",
    "class MathOperations:\n",
    "    @classmethod\n",
    "    def add_numbers(cls,a,b):\n",
    "        return a + b\n",
    "\n",
    "    @staticmethod\n",
    "    def substract_numbers(a,b):\n",
    "        return a - b\n",
    "\n",
    "\n",
    "print(MathOperations.add_numbers(3,5)) \n",
    "print(MathOperations.substract_numbers(5,3))"
   ]
  },
  {
   "cell_type": "code",
   "execution_count": 15,
   "id": "147854cf-ce50-4a33-b3dc-212f685b64ea",
   "metadata": {},
   "outputs": [
    {
     "name": "stdout",
     "output_type": "stream",
     "text": [
      "Total persons created: 3\n"
     ]
    }
   ],
   "source": [
    "#8.Implement a class Person with a class method to count the total number of persons created.\n",
    "\n",
    "class Person:\n",
    "\n",
    "    total_persons = 0\n",
    "    def __init__(self,name):\n",
    "        self.name = name\n",
    "        Person.total_persons = Person.total_persons + 1\n",
    "\n",
    "    @classmethod\n",
    "    def get_total_persons(cls):\n",
    "        return cls.total_persons\n",
    "\n",
    "\n",
    "# Example usage:\n",
    "p1 = Person(\"Alice\")\n",
    "p2 = Person(\"Bob\")\n",
    "p3 = Person(\"Charlie\")\n",
    "\n",
    "print(\"Total persons created:\", Person.get_total_persons())  # Output: 3"
   ]
  },
  {
   "cell_type": "code",
   "execution_count": 27,
   "id": "02b20f02-5de0-4130-8a7b-11e15b92541f",
   "metadata": {},
   "outputs": [
    {
     "name": "stdout",
     "output_type": "stream",
     "text": [
      "3/4\n"
     ]
    }
   ],
   "source": [
    "#9. Write a class Fraction with attributes numerator and denominator. Override the str method to display the \n",
    "#fraction as \"numerator/denominator\".\n",
    "\n",
    "class Fraction:\n",
    "    def __init__(self,numerator,denominator):\n",
    "        self.numerator = numerator\n",
    "        self.denominator = denominator\n",
    "    def __str__(self):\n",
    "        return f\"{self.numerator}/{self.denominator}\"\n",
    "\n",
    "f = Fraction(3,4)\n",
    "print(f)        "
   ]
  },
  {
   "cell_type": "code",
   "execution_count": 28,
   "id": "40d522e9-bc33-4db2-80e5-3d3f419f2aec",
   "metadata": {},
   "outputs": [
    {
     "name": "stdout",
     "output_type": "stream",
     "text": [
      "v1 = Vector(2, 5)\n",
      "v2 = Vector(3, 7)\n",
      "v1 + v2 = Vector(5, 12)\n"
     ]
    }
   ],
   "source": [
    "# 10. Demonstrate operator overloading by creating a class Vector and overriding the add method to add two vectors.\n",
    "\n",
    "class Vector:\n",
    "    def __init__(self, x, y):\n",
    "        self.x = x\n",
    "        self.y = y\n",
    "\n",
    "    # Overloading the '+' operator\n",
    "    def __add__(self, other):\n",
    "        return Vector(self.x + other.x, self.y + other.y)\n",
    "\n",
    "    # String representation for easy printing\n",
    "    def __str__(self):\n",
    "        return f\"Vector({self.x}, {self.y})\"\n",
    "\n",
    "# Example usage:\n",
    "v1 = Vector(2, 5)\n",
    "v2 = Vector(3, 7)\n",
    "v3 = v1 + v2  # Uses the overloaded __add__ method\n",
    "\n",
    "print(\"v1 =\", v1)\n",
    "print(\"v2 =\", v2)\n",
    "print(\"v1 + v2 =\", v3)\n"
   ]
  },
  {
   "cell_type": "code",
   "execution_count": 43,
   "id": "9eb7d6bc-c53f-4a73-9a64-2106594e4589",
   "metadata": {},
   "outputs": [
    {
     "name": "stdout",
     "output_type": "stream",
     "text": [
      "Hello, my name is Ajay and I am 14 years old\n"
     ]
    }
   ],
   "source": [
    "# 11. Create a class Person with attributes name and age. Add a method greet() that prints \"Hello, my name is {name} and I am {age} years old.\"\n",
    "\n",
    "class Person:\n",
    "    def __init__(self,name,age):\n",
    "        self.name = name\n",
    "        self.age = age\n",
    "    def greet(self):\n",
    "        print(f\"Hello, my name is {self.name} and I am {self.age} years old\")\n",
    "\n",
    "\n",
    "p = Person(\"Ajay\", 14)\n",
    "p.greet()"
   ]
  },
  {
   "cell_type": "code",
   "execution_count": 47,
   "id": "4d9ac774-5cd0-4ae7-a0b5-1df426aeb523",
   "metadata": {},
   "outputs": [
    {
     "name": "stdout",
     "output_type": "stream",
     "text": [
      "Alice's average grade: 86.25\n"
     ]
    }
   ],
   "source": [
    "# 12. Implement a class Student with attributes name and grades. Create a method average_grade() to compute the average of the grades.\n",
    "\n",
    "class Student:\n",
    "    def __init__(self, name, grades):\n",
    "        self.name = name\n",
    "        self.grades = grades\n",
    "\n",
    "    def average_grade(self):\n",
    "        if not self.grades:\n",
    "            return None\n",
    "        return sum(self.grades) / len(self.grades)\n",
    "\n",
    "# Example usage:\n",
    "student1 = Student(\"Alice\", [85, 90, 78, 92])\n",
    "print(f\"{student1.name}'s average grade: {student1.average_grade():.2f}\")"
   ]
  },
  {
   "cell_type": "code",
   "execution_count": 71,
   "id": "698c2d55-e257-405b-96cc-91f1ce38449f",
   "metadata": {},
   "outputs": [
    {
     "name": "stdout",
     "output_type": "stream",
     "text": [
      "Initial area: 200\n",
      "New area: 1600\n"
     ]
    }
   ],
   "source": [
    "# 13. Create a class Rectangle with methods set_dimensions() to set the dimensions and area() to calculate the area.\n",
    "\n",
    "class Rectangle:\n",
    "    def __init__(self, length = 0, breadth = 0):\n",
    "        self.length = length\n",
    "        self.breadth = breadth\n",
    "    \n",
    "    def set_dimensions(self, length, breadth):\n",
    "        self.length = length\n",
    "        self.breadth = breadth\n",
    "    def area(self):\n",
    "        return self.length*self.breadth\n",
    "        \n",
    "# Create a Rectangle object with initial dimensions\n",
    "r = Rectangle(10, 20)\n",
    "print(\"Initial area:\", r.area())  # Output: 200\n",
    "\n",
    "# Update the dimensions\n",
    "r.set_dimensions(40, 40)\n",
    "print(\"New area:\", r.area())      # Output: 1600"
   ]
  },
  {
   "cell_type": "code",
   "execution_count": 73,
   "id": "fded616b-24c9-432f-95e8-613b3b4488fd",
   "metadata": {},
   "outputs": [
    {
     "name": "stdout",
     "output_type": "stream",
     "text": [
      "Employee Salary: $800\n",
      "Manager Salary: $1300\n"
     ]
    }
   ],
   "source": [
    "# 14. Create a class Employee with a method calculate_salary() that computes the salary based on hours worked \n",
    "#and hourly rate. Create a derived class Manager that adds a bonus to the salary.\n",
    "\n",
    "# Base class\n",
    "class Employee:\n",
    "    def __init__(self, name, hours_worked, hourly_rate):\n",
    "        self.name = name\n",
    "        self.hours_worked = hours_worked\n",
    "        self.hourly_rate = hourly_rate\n",
    "\n",
    "    def calculate_salary(self):\n",
    "        salary = self.hours_worked * self.hourly_rate\n",
    "        return salary\n",
    "\n",
    "# Derived class\n",
    "class Manager(Employee):\n",
    "    def __init__(self, name, hours_worked, hourly_rate, bonus):\n",
    "        super().__init__(name, hours_worked, hourly_rate)  # Same hourly rate as Employee\n",
    "        self.bonus = bonus\n",
    "\n",
    "    def calculate_salary(self):\n",
    "        base_salary = super().calculate_salary()\n",
    "        total_salary = base_salary + self.bonus\n",
    "        return total_salary\n",
    "\n",
    "# Example usage:\n",
    "emp = Employee(\"Alice\", 40, 20)\n",
    "print(f\"Employee Salary: ${emp.calculate_salary()}\")  # 40 * 20 = $800\n",
    "\n",
    "mgr = Manager(\"Bob\", 40, 20, 500)\n",
    "print(f\"Manager Salary: ${mgr.calculate_salary()}\")   # 40 * 20 + 500 = $1300"
   ]
  },
  {
   "cell_type": "code",
   "execution_count": 13,
   "id": "6f55b762-4ddd-4672-a59f-7f85d9cda5f3",
   "metadata": {},
   "outputs": [
    {
     "name": "stdout",
     "output_type": "stream",
     "text": [
      "240\n"
     ]
    }
   ],
   "source": [
    "# 15. Create a class Product with attributes name, price, and quantity. Implement a method total_price() that \n",
    "#calculates the total price of the product.\n",
    "\n",
    "class Product:\n",
    "    def __init__(self, name, price, quantity):\n",
    "\n",
    "        if price < 0:\n",
    "             raise ValueError(\"price must be non‑negative\")\n",
    "        if quantity < 0:\n",
    "            raise ValueError(\"quantity must be non‑negative\")\n",
    "        self.name = name\n",
    "        self.price = price\n",
    "        self.quantity = quantity\n",
    "            \n",
    "    def total_price(self):\n",
    "        return self.price * self.quantity\n",
    "\n",
    "\n",
    "p = Product(\"Notebook\", 80, 3)\n",
    "print(p.total_price())   # 239.97    "
   ]
  },
  {
   "cell_type": "code",
   "execution_count": 22,
   "id": "f895b780-073d-4d40-8407-fc63d77df412",
   "metadata": {},
   "outputs": [
    {
     "name": "stdout",
     "output_type": "stream",
     "text": [
      "Cow is an animal that moos\n",
      "Sheep is an animal that baas\n"
     ]
    }
   ],
   "source": [
    "# 16. Create a class Animal with an abstract method sound(). Create two derived classes Cow and Sheep that implement the sound() method.\n",
    "\n",
    "from abc import ABC , abstractmethod\n",
    "\n",
    "class Animal(ABC):\n",
    "    @abstractmethod\n",
    "    def sound(self):\n",
    "        pass\n",
    "\n",
    "class Cow(Animal):\n",
    "    def sound(self):\n",
    "        return \"Cow is an animal that moos\"\n",
    "class Sheep(Animal):\n",
    "    def sound(self):\n",
    "        return \"Sheep is an animal that baas\"\n",
    "\n",
    "\n",
    "c = Cow()\n",
    "print(c.sound())      \n",
    "s = Sheep()\n",
    "print(s.sound())"
   ]
  },
  {
   "cell_type": "code",
   "execution_count": 35,
   "id": "cb1a0099-60fd-4814-b4e0-0487cac90e5b",
   "metadata": {},
   "outputs": [
    {
     "name": "stdout",
     "output_type": "stream",
     "text": [
      "Title: Data science, Author: Henry, Year published: 1999\n"
     ]
    }
   ],
   "source": [
    "#17. Create a class Book with attributes title, author, and year_published. Add a method get_book_info() that \n",
    "#returns a formatted string with the book's details.\n",
    "\n",
    "\n",
    "class Book:\n",
    "    def __init__(self,title,author,year_published):\n",
    "        self.title = title\n",
    "        self.author = author\n",
    "        self.year_published = year_published\n",
    "\n",
    "    def get_book_info(self):\n",
    "        return f\"Title: {self.title}, Author: {self.author}, Year published: {self.year_published}\"\n",
    "\n",
    "b = Book(\"Data science\",\"Henry\",1999)\n",
    "print(b.get_book_info())       "
   ]
  },
  {
   "cell_type": "code",
   "execution_count": 57,
   "id": "17f83f04-1457-4510-b566-b5669777b9ef",
   "metadata": {},
   "outputs": [
    {
     "name": "stdout",
     "output_type": "stream",
     "text": [
      "Address: ABC, Price: $ 22, No of rooms: 3\n"
     ]
    }
   ],
   "source": [
    "#18. Create a class House with attributes address and price. Create a derived class Mansion that adds an attribute number_of_rooms.\n",
    "\n",
    "class House:\n",
    "    def __init__(self,address,price):\n",
    "        self.address = address\n",
    "        self.price = price\n",
    "\n",
    "class Mansion(House):\n",
    "    def __init__(self,address, price, number_of_rooms):\n",
    "        super().__init__(address,price)\n",
    "        self.number_of_rooms = number_of_rooms\n",
    "      \n",
    "    def display_info(self):\n",
    "        print(f\"Address: {self.address}, Price: $ {self.price}, No of rooms: {self.number_of_rooms}\")\n",
    "\n",
    "\n",
    "c = Mansion(\"ABC\",22,3)\n",
    "c.display_info()"
   ]
  },
  {
   "cell_type": "code",
   "execution_count": null,
   "id": "7275abdd-54f9-41de-a481-821528fed458",
   "metadata": {},
   "outputs": [],
   "source": []
  }
 ],
 "metadata": {
  "kernelspec": {
   "display_name": "Python 3 (ipykernel)",
   "language": "python",
   "name": "python3"
  },
  "language_info": {
   "codemirror_mode": {
    "name": "ipython",
    "version": 3
   },
   "file_extension": ".py",
   "mimetype": "text/x-python",
   "name": "python",
   "nbconvert_exporter": "python",
   "pygments_lexer": "ipython3",
   "version": "3.13.5"
  }
 },
 "nbformat": 4,
 "nbformat_minor": 5
}
